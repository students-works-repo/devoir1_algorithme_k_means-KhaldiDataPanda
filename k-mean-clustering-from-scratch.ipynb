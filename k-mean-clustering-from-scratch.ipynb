{
 "cells": [
  {
   "cell_type": "markdown",
   "id": "27c82f1c",
   "metadata": {
    "papermill": {
     "duration": 0.006495,
     "end_time": "2023-03-14T00:27:50.659580",
     "exception": false,
     "start_time": "2023-03-14T00:27:50.653085",
     "status": "completed"
    },
    "tags": []
   },
   "source": [
    "# Introduction \n",
    "\n",
    "\n",
    "As a Data Scientist, you will often be asked to cluster data. Clustering is a method of unsupervised learning, which means that you are not given a target variable to predict. Instead, you are given a set of data points and asked to group them into clusters. Clustering is a great way to explore your data and find hidden patterns. \n",
    "\n",
    "\n",
    "In this notebook, you will learn how to cluster data using the K-Means algorithm. You will also learn how to choose the optimal number of clusters for your data."
   ]
  },
  {
   "cell_type": "markdown",
   "id": "f340057e",
   "metadata": {
    "papermill": {
     "duration": 0.004732,
     "end_time": "2023-03-14T00:27:50.669945",
     "exception": false,
     "start_time": "2023-03-14T00:27:50.665213",
     "status": "completed"
    },
    "tags": []
   },
   "source": [
    "# What is K-Means Clustering?\n",
    "\n",
    "\n",
    "K-Means clustering is an unsupervised learning algorithm that groups data into non-overlaping clusters. The algorithm works by randomly assigning each data point to a cluster. Then, it calculates the centroid of each cluster. The centroid is the center point of a cluster. Next, the algorithm reassigns each data point to the cluster whose centroid is closest to the data point. The algorithm repeats these steps until the data points no longer change clusters."
   ]
  },
  {
   "cell_type": "markdown",
   "id": "23b24f4c",
   "metadata": {
    "papermill": {
     "duration": 0.004634,
     "end_time": "2023-03-14T00:27:50.679601",
     "exception": false,
     "start_time": "2023-03-14T00:27:50.674967",
     "status": "completed"
    },
    "tags": []
   },
   "source": [
    "Here we can see the K-Means algorithm in action. The data points are randomly assigned to clusters. Then, the centroids are calculated. Next, the data points are reassigned to clusters. Finally, the centroids are recalculated. The algorithm repeats these steps until the data points no longer change clusters.             \n",
    "\n",
    "(Cleick on image for an interesting article)\n",
    "\n",
    "![K-Means Clustering](https://static.javatpoint.com/tutorial/machine-learning/images/k-means-clustering-algorithm-in-machine-learning.png)"
   ]
  },
  {
   "cell_type": "markdown",
   "id": "4a906153",
   "metadata": {
    "papermill": {
     "duration": 0.004575,
     "end_time": "2023-03-14T00:27:50.689075",
     "exception": false,
     "start_time": "2023-03-14T00:27:50.684500",
     "status": "completed"
    },
    "tags": []
   },
   "source": [
    "As you can see the data was grouped into 3 clusters. The algorithm was able to find the 3 clusters in the data without being told that there were 3 clusters. This is the power of unsupervised learning.\n",
    "\n",
    "\n",
    "**Now let's start coding!**"
   ]
  },
  {
   "cell_type": "code",
   "execution_count": 1,
   "id": "ad762c48",
   "metadata": {
    "execution": {
     "iopub.execute_input": "2023-03-14T00:27:50.701542Z",
     "iopub.status.busy": "2023-03-14T00:27:50.700962Z",
     "iopub.status.idle": "2023-03-14T00:27:51.816644Z",
     "shell.execute_reply": "2023-03-14T00:27:51.815338Z"
    },
    "papermill": {
     "duration": 1.125869,
     "end_time": "2023-03-14T00:27:51.819909",
     "exception": false,
     "start_time": "2023-03-14T00:27:50.694040",
     "status": "completed"
    },
    "tags": []
   },
   "outputs": [],
   "source": [
    "# importing required libraries\n",
    "\n",
    "import numpy as np\n",
    "import pandas as pd\n",
    "import matplotlib.pyplot as plt\n",
    "import seaborn as sns\n",
    "%matplotlib inline"
   ]
  },
  {
   "cell_type": "markdown",
   "id": "a26aff89",
   "metadata": {
    "papermill": {
     "duration": 0.004842,
     "end_time": "2023-03-14T00:27:51.830162",
     "exception": false,
     "start_time": "2023-03-14T00:27:51.825320",
     "status": "completed"
    },
    "tags": []
   },
   "source": [
    "Let's make some data, we're gonna use ```make_blobs``` from ```sklearn.datasets```. This  creates data in a way we can manipulate to create clusters.\n"
   ]
  },
  {
   "cell_type": "code",
   "execution_count": 2,
   "id": "5040f859",
   "metadata": {
    "execution": {
     "iopub.execute_input": "2023-03-14T00:27:51.842186Z",
     "iopub.status.busy": "2023-03-14T00:27:51.841782Z",
     "iopub.status.idle": "2023-03-14T00:27:52.360311Z",
     "shell.execute_reply": "2023-03-14T00:27:52.358862Z"
    },
    "papermill": {
     "duration": 0.528,
     "end_time": "2023-03-14T00:27:52.363217",
     "exception": false,
     "start_time": "2023-03-14T00:27:51.835217",
     "status": "completed"
    },
    "tags": []
   },
   "outputs": [
    {
     "data": {
      "text/plain": [
       "<matplotlib.collections.PathCollection at 0x1fdede03550>"
      ]
     },
     "execution_count": 2,
     "metadata": {},
     "output_type": "execute_result"
    },
    {
     "data": {
      "image/png": "[encoded data removed]",
      "text/plain": [
       "<Figure size 640x480 with 1 Axes>"
      ]
     },
     "metadata": {},
     "output_type": "display_data"
    }
   ],
   "source": [
    "from sklearn.datasets import make_blobs\n",
    "\n",
    "# creating data\n",
    "\n",
    "data = make_blobs(n_samples=300, n_features=2, centers=3, cluster_std=1.1, random_state=53)\n",
    "plt.scatter(data[0][:,0], data[0][:,1])"
   ]
  },
  {
   "cell_type": "markdown",
   "id": "ae878028",
   "metadata": {
    "papermill": {
     "duration": 0.005552,
     "end_time": "2023-03-14T00:27:52.375437",
     "exception": false,
     "start_time": "2023-03-14T00:27:52.369885",
     "status": "completed"
    },
    "tags": []
   },
   "source": [
    "Now after we created the data let's start modeling. \n",
    "\n",
    "\n",
    "for modeling we will do it in 2 ways, first we will build our own K-Means algorithm and then we will use the K-Means algorithm from ```sklearn.cluster```\n",
    "\n",
    "if you only want to use the K-Means algorithm from ```sklearn.cluster``` you can skip to the next section."
   ]
  },
  {
   "cell_type": "markdown",
   "id": "5f184d10",
   "metadata": {
    "papermill": {
     "duration": 0.00581,
     "end_time": "2023-03-14T00:27:52.387187",
     "exception": false,
     "start_time": "2023-03-14T00:27:52.381377",
     "status": "completed"
    },
    "tags": []
   },
   "source": [
    "# Building our own K-Means algorithm\n",
    "\n",
    "\n",
    "So just as we saw in the ```What's the K-mean``` section, we will create a class ```Kmean_Model``` that will have 5 parametrers ```k```, ```max_iter```, ```dist_type```, ```centroids```,```clusters```. \n",
    "\n",
    "```k``` is the number of clusters we want to create, ```max_iter``` is the maximum number of iterations we want to run the algorithm, ```dist_type``` is the distance type we want to use to calculate the distance between the data points and the centroids, ```centroids``` is the centroids of the clusters, ```clusters``` is the clusters we created.\n",
    "\n",
    "\n",
    "The class will also have 2 methods ```fit``` and ```predict```. \n",
    "\n",
    "```fit``` is the method that will run the K-Means algorithm, it will take 2 parameters ```X``` and ```y```, ```X``` is the data we want to cluster and ```y``` is the target variable, we will not use it in this case.\n",
    "\n",
    "```predict``` is the method that will predict the cluster of a new data point, it will take 1 parameter ```X``` which is the data we want to predict."
   ]
  },
  {
   "cell_type": "code",
   "execution_count": 4,
   "id": "1538febd",
   "metadata": {
    "execution": {
     "iopub.execute_input": "2023-03-14T00:27:52.401883Z",
     "iopub.status.busy": "2023-03-14T00:27:52.401420Z",
     "iopub.status.idle": "2023-03-14T00:27:52.419311Z",
     "shell.execute_reply": "2023-03-14T00:27:52.418146Z"
    },
    "papermill": {
     "duration": 0.028606,
     "end_time": "2023-03-14T00:27:52.421935",
     "exception": false,
     "start_time": "2023-03-14T00:27:52.393329",
     "status": "completed"
    },
    "tags": []
   },
   "outputs": [],
   "source": [
    "class Kmean_Model :\n",
    "    \n",
    "    # parameters\n",
    "    \n",
    "    k = 3\n",
    "    max_iter = 300\n",
    "    dist_type = 'Ecludian'\n",
    "    centroids = {}\n",
    "    clusters = {}\n",
    "    \n",
    "    # constructor\n",
    "    \n",
    "    def __init__(self, k, max_iter, dist_type):\n",
    "        self.k = k\n",
    "        self.max_iter = max_iter\n",
    "        self.dist_type = dist_type\n",
    "        \n",
    "    # fit method\n",
    "    \n",
    "    def fit(self, data):\n",
    "        \n",
    "        # initializing centroids randomlly \n",
    "        \n",
    "        for i in range(self.k):\n",
    "            self.centroids[i] = np.random.uniform((np.min(data)+np.mean(data))/2, (np.max(data)+ np.mean(data))/2, data.shape[1])      ## this will allow us to make accurate clusters by the end\n",
    "            \n",
    "        \n",
    "       \n",
    "        # running algorithm\n",
    "        \n",
    "        for i in range(self.max_iter):\n",
    "            \n",
    "            # initializing clusters\n",
    "            \n",
    "            for i in range(self.k):\n",
    "                self.clusters[i] = []\n",
    "                \n",
    "            # assigning data points to clusters\n",
    "            \n",
    "            for featureset in data:\n",
    "                \n",
    "                if self.dist_type == 'Ecludian':\n",
    "                    distances = [np.linalg.norm(featureset - self.centroids[centroid]) for centroid in self.centroids]\n",
    "                elif self.dist_type == 'Manhattan':                                                                      #the Manhattan distance is better when dealing with high dimensional data\n",
    "                    distances = [np.sum(np.abs(featureset - self.centroids[centroid])) for centroid in self.centroids]\n",
    "                \n",
    "              \n",
    "                cluster = distances.index(min(distances))\n",
    "                self.clusters[cluster].append(featureset)\n",
    "\n",
    "                \n",
    "            # updating centroids\n",
    "            \n",
    "            prev_centroids = dict(self.centroids)\n",
    "            \n",
    "            for cluster in self.clusters:\n",
    "                self.centroids[cluster] = np.average(self.clusters[cluster], axis=0)\n",
    "                \n",
    "            # checking convergence , this part will stop the algorithm if the centroids are not changing much\n",
    "            \n",
    "            optimized = True\n",
    "            \n",
    "            for centroid in self.centroids:\n",
    "                original_centroid = prev_centroids[centroid]\n",
    "                current_centroid = self.centroids[centroid]\n",
    "                if np.sum((current_centroid - original_centroid)/original_centroid * 100.0) > 0.001:\n",
    "                    optimized = False\n",
    "                    \n",
    "            if optimized:\n",
    "                break\n",
    "            \n",
    "    # predict method\n",
    "    \n",
    "    def predict(self, data):\n",
    "        \n",
    "        # assigning data points to clusters\n",
    "        \n",
    "        distances = [np.linalg.norm(data - self.centroids[centroid]) for centroid in self.centroids]\n",
    "        cluster = distances.index(min(distances))\n",
    "        return cluster\n",
    "    \n",
    "        "
   ]
  },
  {
   "cell_type": "markdown",
   "id": "cad73d18",
   "metadata": {
    "papermill": {
     "duration": 0.005493,
     "end_time": "2023-03-14T00:27:52.433847",
     "exception": false,
     "start_time": "2023-03-14T00:27:52.428354",
     "status": "completed"
    },
    "tags": []
   },
   "source": [
    "**Great for now, let's plot the results**\n",
    "\n",
    "Note : we used a predict model just to make it easier when we plot new data labels but it's not necessary to make one, cause it's more of a classification class than a clustering"
   ]
  },
  {
   "cell_type": "code",
   "execution_count": 5,
   "id": "78dbf756",
   "metadata": {
    "execution": {
     "iopub.execute_input": "2023-03-14T00:27:52.449171Z",
     "iopub.status.busy": "2023-03-14T00:27:52.448300Z",
     "iopub.status.idle": "2023-03-14T00:27:56.587153Z",
     "shell.execute_reply": "2023-03-14T00:27:56.585799Z"
    },
    "papermill": {
     "duration": 4.15046,
     "end_time": "2023-03-14T00:27:56.590200",
     "exception": false,
     "start_time": "2023-03-14T00:27:52.439740",
     "status": "completed"
    },
    "tags": []
   },
   "outputs": [
    {
     "data": {
      "image/png": "[encoded data removed]",
      "text/plain": [
       "<Figure size 640x480 with 1 Axes>"
      ]
     },
     "metadata": {},
     "output_type": "display_data"
    }
   ],
   "source": [
    "kmeans = Kmean_Model(3, 1000, 'Ecludian')\n",
    "kmeans.fit(data[0])\n",
    "kmeans.predict(data[0])\n",
    "\n",
    "# plotting the clusters\n",
    "\n",
    "colors = ['r', 'g', 'b']\n",
    "\n",
    "for cluster in kmeans.clusters:\n",
    "    \n",
    "    for featureset in kmeans.clusters[cluster]:\n",
    "        \n",
    "        plt.scatter(featureset[0], featureset[1], color=colors[cluster], marker='o',s=10)\n",
    "        \n",
    "for centroid in kmeans.centroids:\n",
    "  \n",
    "    plt.scatter(kmeans.centroids[centroid][0], kmeans.centroids[centroid][1], color='k', marker='x', s=25, linewidths=5)\n",
    "            \n",
    "    "
   ]
  },
  {
   "cell_type": "markdown",
   "id": "ffcb7ea1",
   "metadata": {
    "papermill": {
     "duration": 0.006641,
     "end_time": "2023-03-14T00:27:56.604042",
     "exception": false,
     "start_time": "2023-03-14T00:27:56.597401",
     "status": "completed"
    },
    "tags": []
   },
   "source": [
    "As we can see the algorithm was able to find the 3 clusters in the data without being told that there were 3 clusters. This is the power of unsupervised learning.\n",
    "\n",
    "\n",
    "**Now let's try it on new data just for fun**"
   ]
  },
  {
   "cell_type": "code",
   "execution_count": 6,
   "id": "31123c44",
   "metadata": {
    "execution": {
     "iopub.execute_input": "2023-03-14T00:27:56.620104Z",
     "iopub.status.busy": "2023-03-14T00:27:56.619654Z",
     "iopub.status.idle": "2023-03-14T00:27:56.628949Z",
     "shell.execute_reply": "2023-03-14T00:27:56.627585Z"
    },
    "papermill": {
     "duration": 0.020761,
     "end_time": "2023-03-14T00:27:56.632385",
     "exception": false,
     "start_time": "2023-03-14T00:27:56.611624",
     "status": "completed"
    },
    "tags": []
   },
   "outputs": [
    {
     "data": {
      "text/plain": [
       "2"
      ]
     },
     "execution_count": 6,
     "metadata": {},
     "output_type": "execute_result"
    }
   ],
   "source": [
    "kmeans.predict(np.array([[1,1], [2,2], [3,3], [4,4], [5,5]]))\n",
    "                                 "
   ]
  },
  {
   "cell_type": "markdown",
   "id": "76ec9666",
   "metadata": {
    "papermill": {
     "duration": 0.007246,
     "end_time": "2023-03-14T00:27:56.646532",
     "exception": false,
     "start_time": "2023-03-14T00:27:56.639286",
     "status": "completed"
    },
    "tags": []
   },
   "source": [
    "The output shows the cluster each point belongs to.\n",
    "\n",
    "Now let's use the pre-built K-Means algorithm from ```sklearn.cluster```"
   ]
  },
  {
   "cell_type": "markdown",
   "id": "77dbb2a1",
   "metadata": {
    "papermill": {
     "duration": 0.006285,
     "end_time": "2023-03-14T00:27:56.659836",
     "exception": false,
     "start_time": "2023-03-14T00:27:56.653551",
     "status": "completed"
    },
    "tags": []
   },
   "source": [
    "# Using the K-Means from sickit-learn\n",
    "\n",
    "\n",
    "Now let's use the pre-built K-Means algorithm from ```sklearn.cluster```, we will use the same data we used before."
   ]
  },
  {
   "cell_type": "code",
   "execution_count": 7,
   "id": "b839ab55",
   "metadata": {
    "execution": {
     "iopub.execute_input": "2023-03-14T00:27:56.676467Z",
     "iopub.status.busy": "2023-03-14T00:27:56.675332Z",
     "iopub.status.idle": "2023-03-14T00:27:57.153757Z",
     "shell.execute_reply": "2023-03-14T00:27:57.152436Z"
    },
    "papermill": {
     "duration": 0.489885,
     "end_time": "2023-03-14T00:27:57.156432",
     "exception": false,
     "start_time": "2023-03-14T00:27:56.666547",
     "status": "completed"
    },
    "tags": []
   },
   "outputs": [
    {
     "name": "stderr",
     "output_type": "stream",
     "text": [
      "c:\\Users\\khald\\AppData\\Local\\Programs\\Python\\Python311\\Lib\\site-packages\\sklearn\\cluster\\_kmeans.py:870: FutureWarning: The default value of `n_init` will change from 10 to 'auto' in 1.4. Set the value of `n_init` explicitly to suppress the warning\n",
      "  warnings.warn(\n"
     ]
    },
    {
     "data": {
      "text/html": [
       "<style>#sk-container-id-1 {color: black;background-color: white;}#sk-container-id-1 pre{padding: 0;}#sk-container-id-1 div.sk-toggleable {background-color: white;}#sk-container-id-1 label.sk-toggleable__label {cursor: pointer;display: block;width: 100%;margin-bottom: 0;padding: 0.3em;box-sizing: border-box;text-align: center;}#sk-container-id-1 label.sk-toggleable__label-arrow:before {content: \"▸\";float: left;margin-right: 0.25em;color: #696969;}#sk-container-id-1 label.sk-toggleable__label-arrow:hover:before {color: black;}#sk-container-id-1 div.sk-estimator:hover label.sk-toggleable__label-arrow:before {color: black;}#sk-container-id-1 div.sk-toggleable__content {max-height: 0;max-width: 0;overflow: hidden;text-align: left;background-color: #f0f8ff;}#sk-container-id-1 div.sk-toggleable__content pre {margin: 0.2em;color: black;border-radius: 0.25em;background-color: #f0f8ff;}#sk-container-id-1 input.sk-toggleable__control:checked~div.sk-toggleable__content {max-height: 200px;max-width: 100%;overflow: auto;}#sk-container-id-1 input.sk-toggleable__control:checked~label.sk-toggleable__label-arrow:before {content: \"▾\";}#sk-container-id-1 div.sk-estimator input.sk-toggleable__control:checked~label.sk-toggleable__label {background-color: #d4ebff;}#sk-container-id-1 div.sk-label input.sk-toggleable__control:checked~label.sk-toggleable__label {background-color: #d4ebff;}#sk-container-id-1 input.sk-hidden--visually {border: 0;clip: rect(1px 1px 1px 1px);clip: rect(1px, 1px, 1px, 1px);height: 1px;margin: -1px;overflow: hidden;padding: 0;position: absolute;width: 1px;}#sk-container-id-1 div.sk-estimator {font-family: monospace;background-color: #f0f8ff;border: 1px dotted black;border-radius: 0.25em;box-sizing: border-box;margin-bottom: 0.5em;}#sk-container-id-1 div.sk-estimator:hover {background-color: #d4ebff;}#sk-container-id-1 div.sk-parallel-item::after {content: \"\";width: 100%;border-bottom: 1px solid gray;flex-grow: 1;}#sk-container-id-1 div.sk-label:hover label.sk-toggleable__label {background-color: #d4ebff;}#sk-container-id-1 div.sk-serial::before {content: \"\";position: absolute;border-left: 1px solid gray;box-sizing: border-box;top: 0;bottom: 0;left: 50%;z-index: 0;}#sk-container-id-1 div.sk-serial {display: flex;flex-direction: column;align-items: center;background-color: white;padding-right: 0.2em;padding-left: 0.2em;position: relative;}#sk-container-id-1 div.sk-item {position: relative;z-index: 1;}#sk-container-id-1 div.sk-parallel {display: flex;align-items: stretch;justify-content: center;background-color: white;position: relative;}#sk-container-id-1 div.sk-item::before, #sk-container-id-1 div.sk-parallel-item::before {content: \"\";position: absolute;border-left: 1px solid gray;box-sizing: border-box;top: 0;bottom: 0;left: 50%;z-index: -1;}#sk-container-id-1 div.sk-parallel-item {display: flex;flex-direction: column;z-index: 1;position: relative;background-color: white;}#sk-container-id-1 div.sk-parallel-item:first-child::after {align-self: flex-end;width: 50%;}#sk-container-id-1 div.sk-parallel-item:last-child::after {align-self: flex-start;width: 50%;}#sk-container-id-1 div.sk-parallel-item:only-child::after {width: 0;}#sk-container-id-1 div.sk-dashed-wrapped {border: 1px dashed gray;margin: 0 0.4em 0.5em 0.4em;box-sizing: border-box;padding-bottom: 0.4em;background-color: white;}#sk-container-id-1 div.sk-label label {font-family: monospace;font-weight: bold;display: inline-block;line-height: 1.2em;}#sk-container-id-1 div.sk-label-container {text-align: center;}#sk-container-id-1 div.sk-container {/* jupyter's `normalize.less` sets `[hidden] { display: none; }` but bootstrap.min.css set `[hidden] { display: none !important; }` so we also need the `!important` here to be able to override the default hidden behavior on the sphinx rendered scikit-learn.org. See: https://github.com/scikit-learn/scikit-learn/issues/21755 */display: inline-block !important;position: relative;}#sk-container-id-1 div.sk-text-repr-fallback {display: none;}</style><div id=\"sk-container-id-1\" class=\"sk-top-container\"><div class=\"sk-text-repr-fallback\"><pre>KMeans(n_clusters=3)</pre><b>In a Jupyter environment, please rerun this cell to show the HTML representation or trust the notebook. <br />On GitHub, the HTML representation is unable to render, please try loading this page with nbviewer.org.</b></div><div class=\"sk-container\" hidden><div class=\"sk-item\"><div class=\"sk-estimator sk-toggleable\"><input class=\"sk-toggleable__control sk-hidden--visually\" id=\"sk-estimator-id-1\" type=\"checkbox\" checked><label for=\"sk-estimator-id-1\" class=\"sk-toggleable__label sk-toggleable__label-arrow\">KMeans</label><div class=\"sk-toggleable__content\"><pre>KMeans(n_clusters=3)</pre></div></div></div></div></div>"
      ],
      "text/plain": [
       "KMeans(n_clusters=3)"
      ]
     },
     "execution_count": 7,
     "metadata": {},
     "output_type": "execute_result"
    }
   ],
   "source": [
    "from sklearn.cluster import KMeans\n",
    "\n",
    "kmeans = KMeans(n_clusters=3)\n",
    "kmeans.fit(data[0]) \n"
   ]
  },
  {
   "cell_type": "markdown",
   "id": "e83a29e6",
   "metadata": {
    "papermill": {
     "duration": 0.006365,
     "end_time": "2023-03-14T00:27:57.169136",
     "exception": false,
     "start_time": "2023-03-14T00:27:57.162771",
     "status": "completed"
    },
    "tags": []
   },
   "source": [
    "Now plotting the results"
   ]
  },
  {
   "cell_type": "code",
   "execution_count": 8,
   "id": "50376691",
   "metadata": {
    "execution": {
     "iopub.execute_input": "2023-03-14T00:27:57.184909Z",
     "iopub.status.busy": "2023-03-14T00:27:57.183585Z",
     "iopub.status.idle": "2023-03-14T00:27:57.427319Z",
     "shell.execute_reply": "2023-03-14T00:27:57.425418Z"
    },
    "papermill": {
     "duration": 0.254533,
     "end_time": "2023-03-14T00:27:57.430201",
     "exception": false,
     "start_time": "2023-03-14T00:27:57.175668",
     "status": "completed"
    },
    "tags": []
   },
   "outputs": [
    {
     "data": {
      "text/plain": [
       "<matplotlib.collections.PathCollection at 0x1fdf093f4d0>"
      ]
     },
     "execution_count": 8,
     "metadata": {},
     "output_type": "execute_result"
    },
    {
     "data": {
      "image/png": "[encoded data removed]",
      "text/plain": [
       "<Figure size 640x480 with 1 Axes>"
      ]
     },
     "metadata": {},
     "output_type": "display_data"
    }
   ],
   "source": [
    "plt.scatter(data[0][:,0], data[0][:,1], c=kmeans.labels_, s=10 , cmap='rainbow' )\n",
    "plt.scatter(kmeans.cluster_centers_[:,0] ,kmeans.cluster_centers_[:,1], color='black',s=25, marker='x')"
   ]
  },
  {
   "cell_type": "markdown",
   "id": "bb314a27",
   "metadata": {
    "papermill": {
     "duration": 0.006842,
     "end_time": "2023-03-14T00:27:57.444379",
     "exception": false,
     "start_time": "2023-03-14T00:27:57.437537",
     "status": "completed"
    },
    "tags": []
   },
   "source": [
    "The results are the same as the ones we got from our own K-Means algorithm. this confirms that our algorithm is working correctly."
   ]
  },
  {
   "cell_type": "markdown",
   "id": "f258df27",
   "metadata": {
    "papermill": {
     "duration": 0.006894,
     "end_time": "2023-03-14T00:27:57.458498",
     "exception": false,
     "start_time": "2023-03-14T00:27:57.451604",
     "status": "completed"
    },
    "tags": []
   },
   "source": [
    "# Last \n",
    "\n",
    "\n",
    "Clustering is a powerfull tool if you know how to use it, this wan a small introduction but if you want to proceed further in it world consider reading about this topics :\n",
    "\n",
    "- Normalization/Standardization : because clustreing is a algorithm based on calculating distences\n",
    "- Overlaping Clusters\n",
    "- PCA"
   ]
  },
  {
   "cell_type": "markdown",
   "id": "110629af",
   "metadata": {
    "papermill": {
     "duration": 0.006771,
     "end_time": "2023-03-14T00:27:57.472380",
     "exception": false,
     "start_time": "2023-03-14T00:27:57.465609",
     "status": "completed"
    },
    "tags": []
   },
   "source": [
    "### If you liked the notebook don't forget to upvot, Thank You"
   ]
  }
 ],
 "metadata": {
  "kernelspec": {
   "display_name": "Python 3",
   "language": "python",
   "name": "python3"
  },
  "language_info": {
   "codemirror_mode": {
    "name": "ipython",
    "version": 3
   },
   "file_extension": ".py",
   "mimetype": "text/x-python",
   "name": "python",
   "nbconvert_exporter": "python",
   "pygments_lexer": "ipython3",
   "version": "3.11.2"
  },
  "papermill": {
   "default_parameters": {},
   "duration": 18.78297,
   "end_time": "2023-03-14T00:27:58.404965",
   "environment_variables": {},
   "exception": null,
   "input_path": "__notebook__.ipynb",
   "output_path": "__notebook__.ipynb",
   "parameters": {},
   "start_time": "2023-03-14T00:27:39.621995",
   "version": "2.4.0"
  }
 },
 "nbformat": 4,
 "nbformat_minor": 5
}
